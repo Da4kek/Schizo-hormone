{
 "cells": [
  {
   "cell_type": "code",
   "execution_count": 1,
   "metadata": {},
   "outputs": [],
   "source": [
    "import numpy as np\n",
    "import mne\n",
    "import matplotlib.pyplot as plt\n",
    "from pyESN import ESN\n",
    "from Encode import SpikeEncoder"
   ]
  },
  {
   "cell_type": "code",
   "execution_count": 2,
   "metadata": {},
   "outputs": [
    {
     "name": "stdout",
     "output_type": "stream",
     "text": [
      "Reading d:\\research-reservoir\\Schizo-hormone\\Serotonin-based\\..\\processed_schizophrenic_eeg-epo.fif ...\n",
      "Isotrak not found\n",
      "    Found the data of interest:\n",
      "        t =       0.00 ...    1996.00 ms\n",
      "        0 CTF compensation matrices available\n",
      "Not setting metadata\n",
      "15819 matching events found\n",
      "No baseline correction applied\n",
      "0 projection items activated\n"
     ]
    }
   ],
   "source": [
    "data = mne.read_epochs(\n",
    "    '../processed_schizophrenic_eeg-epo.fif', preload=True)"
   ]
  },
  {
   "cell_type": "code",
   "execution_count": 3,
   "metadata": {},
   "outputs": [
    {
     "name": "stderr",
     "output_type": "stream",
     "text": [
      "C:\\Users\\anisr\\AppData\\Local\\Temp\\ipykernel_15172\\2885792738.py:1: FutureWarning: The current default of copy=False will change to copy=True in 1.7. Set the value of copy explicitly to avoid this warning\n",
      "  eeg_data = data.get_data()\n"
     ]
    }
   ],
   "source": [
    "eeg_data = data.get_data()  \n",
    "labels = data.events[:, -1]  "
   ]
  },
  {
   "cell_type": "code",
   "execution_count": 4,
   "metadata": {},
   "outputs": [],
   "source": [
    "eeg_data = eeg_data.reshape(eeg_data.shape[0], -1)"
   ]
  },
  {
   "cell_type": "code",
   "execution_count": 5,
   "metadata": {},
   "outputs": [],
   "source": [
    "eeg_data = (eeg_data - np.min(eeg_data)) /   \\\n",
    "    (np.max(eeg_data) - np.min(eeg_data))"
   ]
  },
  {
   "cell_type": "code",
   "execution_count": 6,
   "metadata": {},
   "outputs": [],
   "source": [
    "encoder = SpikeEncoder()\n",
    "encoded_spikes = np.array([encoder.encode(eeg_channel) for eeg_channel in eeg_data.T]).T"
   ]
  },
  {
   "cell_type": "code",
   "execution_count": 13,
   "metadata": {},
   "outputs": [],
   "source": [
    "esn = ESN(n_inputs=encoded_spikes.shape[1],\n",
    "          n_outputs=encoded_spikes.shape[1],\n",
    "          n_reservoir=100, \n",
    "          sparsity=0.1,\n",
    "          spectral_radius=0.95,\n",
    "          random_state=42)"
   ]
  },
  {
   "cell_type": "code",
   "execution_count": 14,
   "metadata": {},
   "outputs": [],
   "source": [
    "train_fraction = 0.7\n",
    "train_len = int(len(encoded_spikes) * train_fraction)"
   ]
  },
  {
   "cell_type": "code",
   "execution_count": 15,
   "metadata": {},
   "outputs": [
    {
     "data": {
      "text/plain": [
       "array([[0., 0., 0., ..., 0., 0., 0.],\n",
       "       [0., 0., 0., ..., 0., 0., 0.],\n",
       "       [0., 0., 0., ..., 0., 0., 0.],\n",
       "       ...,\n",
       "       [0., 0., 0., ..., 0., 0., 0.],\n",
       "       [0., 0., 0., ..., 0., 0., 0.],\n",
       "       [0., 0., 0., ..., 0., 0., 0.]])"
      ]
     },
     "execution_count": 15,
     "metadata": {},
     "output_type": "execute_result"
    }
   ],
   "source": [
    "esn.fit(encoded_spikes[:train_len], encoded_spikes[:train_len])"
   ]
  },
  {
   "cell_type": "code",
   "execution_count": 16,
   "metadata": {},
   "outputs": [],
   "source": [
    "prediction_horizon = 100\n",
    "predicted_spikes = esn.predict(encoded_spikes[-prediction_horizon:])"
   ]
  },
  {
   "cell_type": "code",
   "execution_count": 19,
   "metadata": {},
   "outputs": [
    {
     "data": {
      "image/png": "[encoded data removed]",
      "text/plain": [
       "<Figure size 1200x600 with 1 Axes>"
      ]
     },
     "metadata": {},
     "output_type": "display_data"
    }
   ],
   "source": [
    "channel = 0\n",
    "plt.figure(figsize=(12, 6))\n",
    "plt.plot(encoded_spikes[-prediction_horizon:, channel],\n",
    "         label='Actual Spike Train', color='blue')\n",
    "# plt.plot(predicted_spikes[:, channel],\n",
    "#          label='Predicted Spike Train', color='red')\n",
    "plt.legend()\n",
    "plt.title(\"Actual vs Predicted Spike Train for Channel {}\".format(channel + 1))\n",
    "plt.xlabel(\"Time\")\n",
    "plt.ylabel(\"Spike (0 or 1)\")\n",
    "plt.show()"
   ]
  },
  {
   "cell_type": "code",
   "execution_count": 18,
   "metadata": {},
   "outputs": [
    {
     "name": "stdout",
     "output_type": "stream",
     "text": [
      "Detected Trend Changes:\n",
      "Epoch 3: Decrease\n",
      "Epoch 4: Increase\n",
      "Epoch 5: Decrease\n",
      "Epoch 6: Increase\n",
      "Epoch 7: Decrease\n",
      "Epoch 8: Increase\n",
      "Epoch 10: Decrease\n",
      "Epoch 11: Increase\n",
      "Epoch 12: Decrease\n",
      "Epoch 15: Increase\n",
      "Epoch 18: Decrease\n",
      "Epoch 21: Increase\n",
      "Epoch 22: Decrease\n",
      "Epoch 23: Increase\n",
      "Epoch 24: Decrease\n",
      "Epoch 26: Increase\n",
      "Epoch 27: Decrease\n",
      "Epoch 28: Increase\n",
      "Epoch 30: Decrease\n",
      "Epoch 31: Increase\n",
      "Epoch 33: Decrease\n",
      "Epoch 34: Increase\n",
      "Epoch 36: Decrease\n",
      "Epoch 38: Increase\n",
      "Epoch 39: Decrease\n",
      "Epoch 41: Increase\n",
      "Epoch 43: Decrease\n",
      "Epoch 44: Increase\n",
      "Epoch 45: Decrease\n",
      "Epoch 46: Increase\n",
      "Epoch 48: Decrease\n",
      "Epoch 50: Increase\n",
      "Epoch 51: Decrease\n",
      "Epoch 52: Increase\n",
      "Epoch 53: Decrease\n",
      "Epoch 55: Increase\n",
      "Epoch 57: Decrease\n",
      "Epoch 59: Increase\n",
      "Epoch 60: Decrease\n",
      "Epoch 62: Increase\n",
      "Epoch 64: Decrease\n",
      "Epoch 65: Increase\n",
      "Epoch 66: Decrease\n",
      "Epoch 67: Increase\n",
      "Epoch 68: Decrease\n",
      "Epoch 71: Increase\n",
      "Epoch 72: Decrease\n",
      "Epoch 73: Increase\n",
      "Epoch 74: Decrease\n",
      "Epoch 76: Increase\n",
      "Epoch 78: Decrease\n",
      "Epoch 79: Increase\n",
      "Epoch 80: Decrease\n",
      "Epoch 82: Increase\n",
      "Epoch 84: Decrease\n",
      "Epoch 85: Increase\n",
      "Epoch 88: Decrease\n",
      "Epoch 90: Increase\n",
      "Epoch 91: Decrease\n",
      "Epoch 92: Increase\n",
      "Epoch 93: Decrease\n",
      "Epoch 94: Increase\n",
      "Epoch 96: Decrease\n",
      "Epoch 97: Increase\n",
      "Epoch 99: Decrease\n"
     ]
    }
   ],
   "source": [
    "trend_changes = np.diff(np.sum(predicted_spikes, axis=1))\n",
    "trend_sign = np.sign(trend_changes)\n",
    "\n",
    "# Display the detected trends\n",
    "trend_changes_detected = []\n",
    "for i in range(1, len(trend_sign)):\n",
    "    if trend_sign[i] != trend_sign[i-1]:\n",
    "        trend_changes_detected.append(\n",
    "            (i, \"Increase\" if trend_sign[i] > 0 else \"Decrease\"))\n",
    "\n",
    "print(\"Detected Trend Changes:\")\n",
    "for epoch, trend in trend_changes_detected:\n",
    "    print(f\"Epoch {epoch + 1}: {trend}\")"
   ]
  },
  {
   "cell_type": "code",
   "execution_count": null,
   "metadata": {},
   "outputs": [],
   "source": []
  }
 ],
 "metadata": {
  "kernelspec": {
   "display_name": "work",
   "language": "python",
   "name": "python3"
  },
  "language_info": {
   "codemirror_mode": {
    "name": "ipython",
    "version": 3
   },
   "file_extension": ".py",
   "mimetype": "text/x-python",
   "name": "python",
   "nbconvert_exporter": "python",
   "pygments_lexer": "ipython3",
   "version": "3.8.19"
  }
 },
 "nbformat": 4,
 "nbformat_minor": 2
}
